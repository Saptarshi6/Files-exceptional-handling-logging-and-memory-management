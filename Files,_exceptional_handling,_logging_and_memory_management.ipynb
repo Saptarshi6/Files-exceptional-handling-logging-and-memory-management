{
  "nbformat": 4,
  "nbformat_minor": 0,
  "metadata": {
    "colab": {
      "provenance": []
    },
    "kernelspec": {
      "name": "python3",
      "display_name": "Python 3"
    },
    "language_info": {
      "name": "python"
    }
  },
  "cells": [
    {
      "cell_type": "code",
      "execution_count": null,
      "metadata": {
        "id": "zGLVcnrxMtSd"
      },
      "outputs": [],
      "source": [
        "#Theory Questions\n",
        "'''\n",
        "Q1] What is the difference between interpreted and compiled languages?\n",
        "\n",
        "ans- A compiler translates the entire source code into machine code before execution.Whereas The source code is\n",
        "     executed line-by-line by an interpreter at runtime.\n",
        "\n",
        "Q2] What is exception handling in Python?\n",
        "\n",
        "ans- Exception handling in Python is a mechanism that allows you to gracefully handle runtime errors (exceptions)\n",
        "     instead of crashing the program.\n",
        "\n",
        "Q3] What is the purpose of the finally block in exception handling?\n",
        "\n",
        "ans- The finally block in Python is used to execute code regardless of whether an exception occurs or not. It ensures\n",
        "     that important cleanup actions (like closing files or releasing resources) always run.\n",
        "\n",
        "Q4] What is logging in Python?\n",
        "\n",
        "ans- Logging in Python is a way to track events that happen during a program’s execution. It helps in debugging,\n",
        "     monitoring, and maintaining software by recording messages about the program's state.\n",
        "\n",
        "Q5] What is the significance of the __del__ method in Python?\n",
        "\n",
        "ans- The __del__ method, also known as the destructor, is a special method in Python that is called when an object\n",
        "     is about to be destroyed (i.e., when it is no longer referenced).\n",
        "\n",
        "Q6] What is the difference between import and from ... import in Python?\n",
        "\n",
        "ans-  'import' Imports the entire module.We must use the module name when accessing its functions or variables.Whereas\n",
        "Using 'from ... import'Imports specific items from a module.You can use the function or variable directly without the module name.\n",
        "\n",
        "Q7]  How can you handle multiple exceptions in Python?\n",
        "\n",
        "ans- We can catch different exceptions separately by defining multiple except blocks.Also we can handle multiple exceptions in\n",
        "    a single except statement by using a tuple.\n",
        "\n",
        "Q8] What is the purpose of the with statement when handling files in Python?\n",
        "\n",
        "ans- The with statement is used for automatic resource management, ensuring that files are properly closed after being used. It\n",
        "     simplifies file handling and prevents resource leaks.\n",
        "\n",
        "Q9] What is the difference between multithreading and multiprocessing?\n",
        "\n",
        "ans- Uses multiple threads within a single process.Threads share the same memory space.\n",
        "            Uses multiple processes, each with its own memory space.Bypasses Python’s GIL, allowing true parallelism.\n",
        "\n",
        "Q10] What are the advantages of using logging in a program?\n",
        "\n",
        "ans- 1.  Helps in Debugging and Troubleshooting\n",
        "     2. Provides Different Levels of Logging\n",
        "     3. Improves Performance (Avoids Excessive print())\n",
        "     4. Stores Logs Persistently for Auditing .\n",
        "\n",
        "Q11] What is memory management in Python?\n",
        "\n",
        "ans- Memory management in Python is the process of handling memory allocation, deallocation, and garbage collection automatically.\n",
        "     Python efficiently manages memory using dynamic memory allocation and garbage collection to free up unused resources.\n",
        "\n",
        "Q12] What are the basic steps involved in exception handling in Python?\n",
        "\n",
        "ans- 1. Use try Block to Write Code That May Cause an Exception\n",
        "     2. Handle Errors with except Block\n",
        "     3. Use else Block for Code That Runs If No Exception Occurs\n",
        "     4. Use finally Block for Cleanup Code .\n",
        "\n",
        "Q13] Why is memory management important in Python?\n",
        "\n",
        "ans- If memory is not freed properly, a program can consume excessive memory, slowing down or even crashing the system.Python’s garbage\n",
        "     collector automatically removes unused objects to prevent memory leaks.Efficient memory management ensures that a program runs faster\n",
        "      by keeping only necessary objects in memory.Python reuses memory for small objects (like integers and strings) using object pooling.\n",
        "\n",
        "Q14] What is the role of try and except in exception handling?\n",
        "\n",
        "ans- The try and except blocks are used to handle errors gracefully in Python programs. Instead of crashing, the program catches exceptions\n",
        "     and continues execution.\n",
        "\n",
        "Q15]  How does Python's garbage collection system work?\n",
        "\n",
        "ans- Python’s garbage collection (GC) system automatically manages memory by reclaiming unused objects, preventing memory leaks. It does this using:\n",
        "\n",
        "Reference Counting\n",
        "\n",
        "Cycle Detection\n",
        "\n",
        "Generational Garbage Collection\n",
        "\n",
        "Q16] What is the purpose of the else block in exception handling?\n",
        "\n",
        "ans- The else block in exception handling is used to execute code only if no exceptions occur in the try block.\n",
        "\n",
        "Q17] What are the common logging levels in Python?\n",
        "\n",
        "ans- Python’s logging module provides different logging levels to categorize messages based on their severity.\n",
        "\n",
        "Python defines five main logging levels:\n",
        "\n",
        "Level\tNumeric Value\tPurpose\n",
        "DEBUG\t10\tDetailed information for debugging\n",
        "INFO\t20\tGeneral information about program execution\n",
        "WARNING\t30\tIndicates a potential issue, but program continues\n",
        "ERROR\t40\tA serious error that needs attention\n",
        "CRITICAL\t50\tA severe error that may cause the program to crash\n",
        "\n",
        "Q18] What is the difference between os.fork() and multiprocessing in Python?\n",
        "\n",
        "ans- Definition: os.fork() creates a new child process by duplicating the parent process.The multiprocessing module\n",
        "   provides an easy way to create separate processes.\n",
        "\n",
        "Q19] F What is the importance of closing a file in Python?\n",
        "\n",
        "ans- When working with files in Python, it is crucial to close the file properly after performing read/write operations.\n",
        "     Failing to close a file can lead to memory leaks, data corruption, or file access issues.\n",
        "\n",
        "Q20] What is the difference between file.read() and file.readline() in Python?\n",
        "\n",
        "ans- file.read(size) – Reads the Entire File or a Specified Number of Characters, whereas file.readline() – Reads One Line at a Time .\n",
        "\n",
        "Q21] What is the logging module in Python used for?\n",
        "\n",
        "ans- The logging module in Python is used to record messages, track events, and debug programs efficiently. It helps developers monitor\n",
        "     what their code is doing, find issues, and store logs for future analysis.\n",
        "\n",
        "Q22] What is the os module in Python used for in file handling?\n",
        "\n",
        "ans- The os module in Python provides functions to interact with the operating system, especially for handling files and directories.\n",
        "     It allows you to create, delete, rename, move, and check file properties.\n",
        "\n",
        "Q23] What are the challenges associated with memory management in Python?\n",
        "\n",
        "ans- Python provides automatic memory management using garbage collection and dynamic memory allocation, but it still has challenges that\n",
        "     developers need to be aware of.\n",
        "\n",
        "Q24]  How do you raise an exception manually in Python?\n",
        "\n",
        "ans- In Python, you can manually raise an exception using the raise keyword. This is useful when you want to enforce certain conditions,\n",
        "     validate user input, or handle custom errors.\n",
        "\n",
        "Q25] Why is it important to use multithreading in certain applications?\n",
        "\n",
        "ans- Multithreading is important in applications where tasks need to run simultaneously to improve performance, responsiveness, and efficiency.\n",
        "    It allows a program to execute multiple operations concurrently within the same process, making better use of system resources.\n",
        "\n",
        "    '''\n",
        "\n",
        "\n",
        "\n",
        "\n",
        "\n",
        "\n",
        "\n",
        "\n"
      ]
    },
    {
      "cell_type": "code",
      "source": [
        "#practical questions"
      ],
      "metadata": {
        "id": "Gsz7qAx0Udw2"
      },
      "execution_count": 1,
      "outputs": []
    },
    {
      "cell_type": "code",
      "source": [
        "#Q1] How can you open a file for writing in Python and write a string to it?\n",
        "\n",
        "with open(\"example.txt\", \"w\") as file:\n",
        "    file.write(\"Hello, this is a test.\")"
      ],
      "metadata": {
        "id": "-c9Ghd0XUp6a"
      },
      "execution_count": 2,
      "outputs": []
    },
    {
      "cell_type": "code",
      "source": [
        "#Q2] Write a Python program to read the contents of a file and print each line.\n",
        "\n",
        "# Open the file in read mode\n",
        "with open(\"example.txt\", \"r\") as file:\n",
        "    for line in file:  # Read each line\n",
        "        print(line.strip())  # Remove extra spaces/newlines"
      ],
      "metadata": {
        "colab": {
          "base_uri": "https://localhost:8080/"
        },
        "id": "NH7gMM9GZNEr",
        "outputId": "9e1f1ab5-4929-4ac3-948e-2e386ac2ca02"
      },
      "execution_count": 3,
      "outputs": [
        {
          "output_type": "stream",
          "name": "stdout",
          "text": [
            "Hello, this is a test.\n"
          ]
        }
      ]
    },
    {
      "cell_type": "code",
      "source": [
        "#Q3] How would you handle a case where the file doesn't exist while trying to open it for reading?\n",
        "\n",
        "#When trying to open a file that doesn't exist, Python raises a FileNotFoundError. You can handle this using a try-except block to prevent the program from crashing.\n",
        "\n",
        "try:\n",
        "    with open(\"example.txt\", \"r\") as file:\n",
        "        for line in file:\n",
        "            print(line.strip())\n",
        "except FileNotFoundError:\n",
        "    print(\"Error: The file does not exist. Please check the filename and try again.\")"
      ],
      "metadata": {
        "colab": {
          "base_uri": "https://localhost:8080/"
        },
        "id": "4oqDH9XaZYeP",
        "outputId": "4f8a439b-5ebd-4335-952b-65a1851fbbda"
      },
      "execution_count": 4,
      "outputs": [
        {
          "output_type": "stream",
          "name": "stdout",
          "text": [
            "Hello, this is a test.\n"
          ]
        }
      ]
    },
    {
      "cell_type": "code",
      "source": [
        "#Q4] Write a Python script that reads from one file and writes its content to another fileF\n",
        "\n",
        "# Define source and destination file names\n",
        "source_file = \"source.txt\"\n",
        "destination_file = \"destination.txt\"\n",
        "\n",
        "try:\n",
        "    # Open source file for reading and destination file for writing\n",
        "    with open(source_file, \"r\") as src, open(destination_file, \"w\") as dest:\n",
        "        for line in src:  # Read line by line\n",
        "            dest.write(line)  # Write to destination file\n",
        "\n",
        "    print(f\"Content copied from '{source_file}' to '{destination_file}' successfully.\")\n",
        "\n",
        "except FileNotFoundError:\n",
        "    print(f\"Error: The file '{source_file}' does not exist.\")\n",
        "except Exception as e:\n",
        "    print(f\"An unexpected error occurred: {e}\")"
      ],
      "metadata": {
        "colab": {
          "base_uri": "https://localhost:8080/"
        },
        "id": "Vry-HLxBZq7_",
        "outputId": "2ef68b16-f0ed-42a1-c447-74b8f18e2aa9"
      },
      "execution_count": 5,
      "outputs": [
        {
          "output_type": "stream",
          "name": "stdout",
          "text": [
            "Error: The file 'source.txt' does not exist.\n"
          ]
        }
      ]
    },
    {
      "cell_type": "code",
      "source": [
        "#Q5] How would you catch and handle division by zero error in Python?\n",
        "\n",
        "try:\n",
        "    num = int(input(\"Enter a number: \"))\n",
        "    result = num / 0  # This will raise ZeroDivisionError\n",
        "    print(\"Result:\", result)\n",
        "except ZeroDivisionError:\n",
        "    print(\"Error: Division by zero is not allowed!\")"
      ],
      "metadata": {
        "colab": {
          "base_uri": "https://localhost:8080/"
        },
        "id": "RraBKDcBZ5t1",
        "outputId": "627ee152-d3f0-46b9-82c7-70f913d3d53f"
      },
      "execution_count": 6,
      "outputs": [
        {
          "output_type": "stream",
          "name": "stdout",
          "text": [
            "Enter a number: 55\n",
            "Error: Division by zero is not allowed!\n"
          ]
        }
      ]
    },
    {
      "cell_type": "code",
      "source": [
        "#Q6]  Write a Python program that logs an error message to a log file when a division by zero exception occurs.\n",
        "\n",
        "import logging\n",
        "\n",
        "# Configure logging\n",
        "logging.basicConfig(filename=\"error.log\", level=logging.ERROR,\n",
        "                    format=\"%(asctime)s - %(levelname)s - %(message)s\")\n",
        "\n",
        "def divide_numbers(a, b):\n",
        "    try:\n",
        "        result = a / b\n",
        "        return result\n",
        "    except ZeroDivisionError:\n",
        "        logging.error(\"Attempted to divide by zero!\")\n",
        "        return \"Error: Cannot divide by zero.\"\n",
        "\n",
        "# Example usage\n",
        "num1 = 10\n",
        "num2 = 0  # This will cause a ZeroDivisionError\n",
        "\n",
        "print(divide_numbers(num1, num2))  # Output: \"Error: Cannot divide by zero.\"\n",
        "\n",
        "print(\"Check 'error.log' for logged errors.\""
      ],
      "metadata": {
        "colab": {
          "base_uri": "https://localhost:8080/",
          "height": 106
        },
        "id": "ecFYokxbaGfF",
        "outputId": "ffdc5186-6c66-4f1f-b423-794705820ccd"
      },
      "execution_count": 7,
      "outputs": [
        {
          "output_type": "error",
          "ename": "SyntaxError",
          "evalue": "incomplete input (<ipython-input-7-c6c8306332ae>, line 23)",
          "traceback": [
            "\u001b[0;36m  File \u001b[0;32m\"<ipython-input-7-c6c8306332ae>\"\u001b[0;36m, line \u001b[0;32m23\u001b[0m\n\u001b[0;31m    print(\"Check 'error.log' for logged errors.\"\u001b[0m\n\u001b[0m                                                ^\u001b[0m\n\u001b[0;31mSyntaxError\u001b[0m\u001b[0;31m:\u001b[0m incomplete input\n"
          ]
        }
      ]
    },
    {
      "cell_type": "code",
      "source": [
        "#Q7]  How do you log information at different levels (INFO, ERROR, WARNING) in Python using the logging module?\n",
        "\n",
        "import logging\n",
        "\n",
        "# Configure logging\n",
        "logging.basicConfig(\n",
        "    filename=\"app.log\",   # Log file name\n",
        "    level=logging.DEBUG,  # Set the lowest level to log (DEBUG)\n",
        "    format=\"%(asctime)s - %(levelname)s - %(message)s\"  # Log format\n",
        ")\n",
        "\n",
        "# Log messages at different levels\n",
        "logging.debug(\"This is a DEBUG message (for troubleshooting).\")\n",
        "logging.info(\"This is an INFO message (general updates).\")\n",
        "logging.warning(\"This is a WARNING message (something unexpected happened).\")\n",
        "logging.error(\"This is an ERROR message (something went wrong).\")\n",
        "logging.critical(\"This is a CRITICAL message (serious failure).\")\n",
        "\n",
        "print(\"Log messages have been written to 'app.log'.\")"
      ],
      "metadata": {
        "id": "mrt0-UTuaUOZ"
      },
      "execution_count": null,
      "outputs": []
    },
    {
      "cell_type": "code",
      "source": [
        "#Q8] Write a program to handle a file opening error using exception handlingF\n",
        "\n",
        "try:\n",
        "    # Attempt to open a non-existing file\n",
        "    with open(\"non_existent_file.txt\", \"r\") as file:\n",
        "        content = file.read()\n",
        "        print(content)\n",
        "except FileNotFoundError:\n",
        "    print(\"Error: The file does not exist. Please check the filename.\")\n",
        "except PermissionError:\n",
        "    print(\"Error: Permission denied. You don't have access to this file.\")\n",
        "except Exception as e:\n",
        "    print(f\"An unexpected error occurred: {e}\")"
      ],
      "metadata": {
        "id": "8sgMqzWEancm"
      },
      "execution_count": null,
      "outputs": []
    },
    {
      "cell_type": "code",
      "source": [
        "#Q9]  How can you read a file line by line and store its content in a list in Python?\n",
        "\n",
        "with open(\"example.txt\", \"r\") as file:\n",
        "    lines = file.readlines()  # Reads all lines into a list\n",
        "\n",
        "print(lines)"
      ],
      "metadata": {
        "id": "gIqGbq8daw7e"
      },
      "execution_count": null,
      "outputs": []
    },
    {
      "cell_type": "code",
      "source": [
        "#Q10] How can you append data to an existing file in Python?\n",
        "\n",
        "with open(\"example.txt\", \"a\") as file:\n",
        "    file.write(\"\\nThis is a new line added to the file.\")"
      ],
      "metadata": {
        "id": "Ee_cw7oha9_c"
      },
      "execution_count": null,
      "outputs": []
    },
    {
      "cell_type": "code",
      "source": [
        "#Q11] Write a Python program that uses a try-except block to handle an error when attempting to access a dictionary key that doesn't exist.\n",
        "\n",
        "student_scores = {\"Alice\": 85, \"Bob\": 90, \"Charlie\": 78}\n",
        "\n",
        "try:\n",
        "    # Attempt to access a key that may not exist\n",
        "    score = student_scores[\"David\"]  # Key \"David\" is not in the dictionary\n",
        "    print(f\"David's score: {score}\")\n",
        "except KeyError:\n",
        "    print(\"Error: The key does not exist in the dictionary.\")"
      ],
      "metadata": {
        "id": "dRsGAa43bG8S"
      },
      "execution_count": null,
      "outputs": []
    },
    {
      "cell_type": "code",
      "source": [
        "#Q12] Write a program that demonstrates using multiple except blocks to handle different types of exceptions.\n",
        "\n",
        "try:\n",
        "    # User input for demonstration\n",
        "    num1 = int(input(\"Enter numerator: \"))  # May raise ValueError\n",
        "    num2 = int(input(\"Enter denominator: \"))  # May raise ValueError\n",
        "    result = num1 / num2  # May raise ZeroDivisionError\n",
        "\n",
        "    # Simulate accessing a dictionary key\n",
        "    sample_dict = {\"a\": 1, \"b\": 2}\n",
        "    key = input(\"Enter a dictionary key to access: \")  # May raise KeyError\n",
        "    value = sample_dict[key]\n",
        "\n",
        "    print(f\"Result: {result}, Dictionary Value: {value}\")\n",
        "\n",
        "except ZeroDivisionError:\n",
        "    print(\"Error: Cannot divide by zero!\")\n",
        "except ValueError:\n",
        "    print(\"Error: Invalid input! Please enter numeric values.\")\n",
        "except KeyError:\n",
        "    print(\"Error: The entered key does not exist in the dictionary.\")\n",
        "except Exception as e:\n",
        "    print(f\"An unexpected error occurred: {e}\")"
      ],
      "metadata": {
        "id": "1628XF2MbTuH"
      },
      "execution_count": null,
      "outputs": []
    },
    {
      "cell_type": "code",
      "source": [
        "#Q13] How would you check if a file exists before attempting to read it in Python?\n",
        "\n",
        "import os\n",
        "\n",
        "filename = \"example.txt\"\n",
        "\n",
        "if os.path.exists(filename):\n",
        "    with open(filename, \"r\") as file:\n",
        "        content = file.read()\n",
        "        print(content)\n",
        "else:\n",
        "    print(\"Error: File does not exist.\")"
      ],
      "metadata": {
        "id": "Uq4fPLXJbg3y"
      },
      "execution_count": null,
      "outputs": []
    },
    {
      "cell_type": "code",
      "source": [
        "#Q14]  Write a program that uses the logging module to log both informational and error messages.\n",
        "\n",
        "import logging\n",
        "\n",
        "# Configure logging\n",
        "logging.basicConfig(\n",
        "    filename=\"app.log\",  # Log file name\n",
        "    level=logging.INFO,  # Set logging level (logs INFO and above)\n",
        "    format=\"%(asctime)s - %(levelname)s - %(message)s\",  # Log format\n",
        ")\n",
        "\n",
        "def divide_numbers(a, b):\n",
        "    \"\"\"Function to divide two numbers with logging.\"\"\"\n",
        "    logging.info(f\"Attempting to divide {a} by {b}\")\n",
        "\n",
        "    try:\n",
        "        result = a / b\n",
        "        logging.info(f\"Division successful: {a} / {b} = {result}\")\n",
        "        return result\n",
        "    except ZeroDivisionError:\n",
        "        logging.error(\"Error: Division by zero!\")\n",
        "        return None\n",
        "\n",
        "# Example function calls\n",
        "divide_numbers(10, 2)  # Logs INFO\n",
        "divide_numbers(5, 0)   # Logs ERROR\n",
        "\n",
        "print(\"Logs have been written to 'app.log'.\")"
      ],
      "metadata": {
        "id": "J8H9Wvx7brHI"
      },
      "execution_count": null,
      "outputs": []
    },
    {
      "cell_type": "code",
      "source": [
        "#Q15] Write a Python program that prints the content of a file and handles the case when the file is empty.\n",
        "\n",
        "import os\n",
        "\n",
        "def read_file(filename):\n",
        "    \"\"\"Reads and prints the content of a file, handling empty files and errors.\"\"\"\n",
        "    if not os.path.exists(filename):\n",
        "        print(\"Error: The file does not exist.\")\n",
        "        return\n",
        "\n",
        "    with open(filename, \"r\") as file:\n",
        "        content = file.read().strip()  # Read and remove leading/trailing spaces\n",
        "\n",
        "        if not content:  # Check if the file is empty\n",
        "            print(\"The file is empty.\")\n",
        "        else:\n",
        "            print(\"File Content:\\n\" + content)\n",
        "\n",
        "# Example: Change \"example.txt\" to your actual file name\n",
        "read_file(\"example.txt\")"
      ],
      "metadata": {
        "id": "6jQ1Xo-Hb2G4"
      },
      "execution_count": null,
      "outputs": []
    },
    {
      "cell_type": "code",
      "source": [
        "#Q16] Demonstrate how to use memory profiling to check the memory usage of a small program.\n",
        "\n",
        "from memory_profiler import profile\n",
        "\n",
        "@profile\n",
        "def memory_intensive_function():\n",
        "    \"\"\"Function that uses memory to demonstrate profiling.\"\"\"\n",
        "    large_list = [i for i in range(1000000)]  # Creates a large list\n",
        "    sum_values = sum(large_list)  # Computes sum\n",
        "    del large_list  # Free up memory\n",
        "    return sum_values\n",
        "\n",
        "if __name__ == \"__main__\":\n",
        "    memory_intensive_function()"
      ],
      "metadata": {
        "id": "5PWDb52xcCft"
      },
      "execution_count": null,
      "outputs": []
    },
    {
      "cell_type": "code",
      "source": [
        "#Q17] Write a Python program to create and write a list of numbers to a file, one number per line.\n",
        "\n",
        "def write_numbers_to_file(filename, numbers):\n",
        "    \"\"\"Writes a list of numbers to a file, one per line.\"\"\"\n",
        "    with open(filename, \"w\") as file:\n",
        "        for number in numbers:\n",
        "            file.write(f\"{number}\\n\")  # Write each number followed by a newline\n",
        "\n",
        "# List of numbers to write\n",
        "numbers_list = list(range(1, 11))  # Generates numbers 1 to 10\n",
        "\n",
        "# File name\n",
        "file_name = \"numbers.txt\"\n",
        "\n",
        "# Write to file\n",
        "write_numbers_to_file(file_name, numbers_list)\n",
        "\n",
        "print(f\"Numbers have been written to {file_name}.\")"
      ],
      "metadata": {
        "id": "noCrOdv_cPak"
      },
      "execution_count": null,
      "outputs": []
    },
    {
      "cell_type": "code",
      "source": [
        "#Q18] How would you implement a basic logging setup that logs to a file with rotation after 1MB?\n",
        "\n",
        "import logging\n",
        "from logging.handlers import RotatingFileHandler\n",
        "\n",
        "# Configure logging\n",
        "log_filename = \"app.log\"  # Log file name\n",
        "max_log_size = 1 * 1024 * 1024  # 1MB (1 Megabyte)\n",
        "backup_count = 3  # Keep up to 3 old log files\n",
        "\n",
        "# Create a rotating file handler\n",
        "handler = RotatingFileHandler(log_filename, maxBytes=max_log_size, backupCount=backup_count)\n",
        "\n",
        "# Set log format\n",
        "formatter = logging.Formatter(\"%(asctime)s - %(levelname)s - %(message)s\")\n",
        "handler.setFormatter(formatter)\n",
        "\n",
        "# Get the logger and attach the handler\n",
        "logger = logging.getLogger(\"RotatingLogger\")\n",
        "logger.setLevel(logging.INFO)  # Log INFO and above\n",
        "logger.addHandler(handler)\n",
        "\n",
        "# Test Logging\n",
        "for i in range(10000):  # Generating logs to fill the file\n",
        "    logger.info(f\"Log message {i}\")\n",
        "\n",
        "print(f\"Logging complete. Check '{log_filename}' and its rotated versions.\")"
      ],
      "metadata": {
        "id": "pI54WvAEcanr"
      },
      "execution_count": null,
      "outputs": []
    },
    {
      "cell_type": "code",
      "source": [
        "#Q19] Write a program that handles both IndexError and KeyError using a try-except block.\n",
        "\n",
        "def handle_exceptions():\n",
        "    my_list = [10, 20, 30]  # List with 3 elements\n",
        "    my_dict = {\"a\": 1, \"b\": 2}  # Dictionary with 2 keys\n",
        "\n",
        "    try:\n",
        "        # Attempt to access an out-of-range index\n",
        "        print(\"List element:\", my_list[5])\n",
        "\n",
        "        # Attempt to access a missing dictionary key\n",
        "        print(\"Dictionary value:\", my_dict[\"c\"])\n",
        "\n",
        "    except IndexError:\n",
        "        print(\"Error: List index out of range.\")\n",
        "\n",
        "    except KeyError:\n",
        "        print(\"Error: Dictionary key not found.\")\n",
        "\n",
        "# Run the function\n",
        "handle_exceptions()"
      ],
      "metadata": {
        "id": "rrqSWoOpcmoG"
      },
      "execution_count": null,
      "outputs": []
    },
    {
      "cell_type": "code",
      "source": [
        "#Q20] How would you open a file and read its contents using a context manager in Python?\n",
        "\n",
        "filename = \"example.txt\"\n",
        "\n",
        "try:\n",
        "    with open(filename, \"r\") as file:\n",
        "        content = file.read()  # Read the entire file\n",
        "        print(\"File Content:\\n\", content)\n",
        "except FileNotFoundError:\n",
        "    print(f\"Error: The file '{filename}' does not exist.\")"
      ],
      "metadata": {
        "id": "ZkwyGPv1cx98"
      },
      "execution_count": null,
      "outputs": []
    },
    {
      "cell_type": "code",
      "source": [
        "#Q21] Write a Python program that reads a file and prints the number of occurrences of a specific word.\n",
        "\n",
        "def count_word_occurrences(filename, target_word):\n",
        "    \"\"\"Counts the occurrences of a specific word in a file.\"\"\"\n",
        "    try:\n",
        "        with open(filename, \"r\", encoding=\"utf-8\") as file:\n",
        "            content = file.read().lower()  # Read the file and convert to lowercase\n",
        "            words = content.split()  # Split into words\n",
        "            count = words.count(target_word.lower())  # Count occurrences (case-insensitive)\n",
        "\n",
        "        print(f\"The word '{target_word}' appears {count} times in '{filename}'.\")\n",
        "\n",
        "    except FileNotFoundError:\n",
        "        print(f\"Error: The file '{filename}' does not exist.\")\n",
        "\n",
        "# Example usage\n",
        "filename = \"example.txt\"  # Replace with your file name\n",
        "word_to_find = \"Python\"  # Replace with your target word\n",
        "\n",
        "count_word_occurrences(filename, word_to_find)"
      ],
      "metadata": {
        "id": "6-8NobXec-Ng"
      },
      "execution_count": null,
      "outputs": []
    },
    {
      "cell_type": "code",
      "source": [
        "#Q22] How can you check if a file is empty before attempting to read its contents?\n",
        "\n",
        "import os\n",
        "\n",
        "def is_file_empty(filename):\n",
        "    \"\"\"Checks if a file is empty based on its size.\"\"\"\n",
        "    return os.path.getsize(filename) == 0  # Returns True if file size is 0 bytes\n",
        "\n",
        "# Example usage\n",
        "filename = \"example.txt\"\n",
        "\n",
        "if os.path.exists(filename):\n",
        "    if is_file_empty(filename):\n",
        "        print(f\"The file '{filename}' is empty.\")\n",
        "    else:\n",
        "        with open(filename, \"r\") as file:\n",
        "            content = file.read()\n",
        "            print(\"File Content:\\n\", content)\n",
        "else:\n",
        "    print(f\"Error: The file '{filename}' does not exist.\")"
      ],
      "metadata": {
        "id": "BaOW5okvdI7A"
      },
      "execution_count": null,
      "outputs": []
    },
    {
      "cell_type": "code",
      "source": [
        "#Q23] Write a Python program that writes to a log file when an error occurs during file handling.\n",
        "\n",
        "import logging\n",
        "\n",
        "# Configure logging to write errors to a log file\n",
        "logging.basicConfig(filename=\"file_errors.log\", level=logging.ERROR,\n",
        "                    format=\"%(asctime)s - %(levelname)s - %(message)s\")\n",
        "\n",
        "def read_file(filename):\n",
        "    \"\"\"Tries to read a file and logs an error if it fails.\"\"\"\n",
        "    try:\n",
        "        with open(filename, \"r\") as file:\n",
        "            content = file.read()\n",
        "            print(\"File Content:\\n\", content)\n",
        "    except FileNotFoundError:\n",
        "        error_message = f\"Error: The file '{filename}' was not found.\"\n",
        "        print(error_message)\n",
        "        logging.error(error_message)  # Log the error\n",
        "    except PermissionError:\n",
        "        error_message = f\"Error: Permission denied for '{filename}'.\"\n",
        "        print(error_message)\n",
        "        logging.error(error_message)  # Log the error\n",
        "    except Exception as e:\n",
        "        error_message = f\"Unexpected error: {e}\"\n",
        "        print(error_message)\n",
        "        logging.error(error_message)  # Log any other exceptions\n",
        "\n",
        "# Example usage\n",
        "filename = \"non_existent_file.txt\"  # Change this to test different scenarios\n",
        "read_file(filename)\n",
        "\n",
        "print(\"Check 'file_errors.log' for logged errors.\")"
      ],
      "metadata": {
        "id": "F_pDVAPkdU3f"
      },
      "execution_count": null,
      "outputs": []
    }
  ]
}